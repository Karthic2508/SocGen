{
  "nbformat": 4,
  "nbformat_minor": 0,
  "metadata": {
    "colab": {
      "provenance": []
    },
    "kernelspec": {
      "name": "python3",
      "display_name": "Python 3"
    },
    "language_info": {
      "name": "python"
    }
  },
  "cells": [
    {
      "cell_type": "code",
      "execution_count": null,
      "metadata": {
        "id": "7FeTLTFk7v0o",
        "colab": {
          "base_uri": "https://localhost:8080/"
        },
        "collapsed": true,
        "outputId": "499b4dab-8bcd-49ee-cd49-203af9b009c7"
      },
      "outputs": [
        {
          "output_type": "stream",
          "name": "stdout",
          "text": [
            "Collecting openai\n",
            "  Downloading openai-1.35.13-py3-none-any.whl (328 kB)\n",
            "\u001b[2K     \u001b[90m━━━━━━━━━━━━━━━━━━━━━━━━━━━━━━━━━━━━━━━━\u001b[0m \u001b[32m328.5/328.5 kB\u001b[0m \u001b[31m3.0 MB/s\u001b[0m eta \u001b[36m0:00:00\u001b[0m\n",
            "\u001b[?25hRequirement already satisfied: anyio<5,>=3.5.0 in /usr/local/lib/python3.10/dist-packages (from openai) (3.7.1)\n",
            "Requirement already satisfied: distro<2,>=1.7.0 in /usr/lib/python3/dist-packages (from openai) (1.7.0)\n",
            "Collecting httpx<1,>=0.23.0 (from openai)\n",
            "  Downloading httpx-0.27.0-py3-none-any.whl (75 kB)\n",
            "\u001b[2K     \u001b[90m━━━━━━━━━━━━━━━━━━━━━━━━━━━━━━━━━━━━━━━━\u001b[0m \u001b[32m75.6/75.6 kB\u001b[0m \u001b[31m4.6 MB/s\u001b[0m eta \u001b[36m0:00:00\u001b[0m\n",
            "\u001b[?25hRequirement already satisfied: pydantic<3,>=1.9.0 in /usr/local/lib/python3.10/dist-packages (from openai) (2.8.2)\n",
            "Requirement already satisfied: sniffio in /usr/local/lib/python3.10/dist-packages (from openai) (1.3.1)\n",
            "Requirement already satisfied: tqdm>4 in /usr/local/lib/python3.10/dist-packages (from openai) (4.66.4)\n",
            "Requirement already satisfied: typing-extensions<5,>=4.7 in /usr/local/lib/python3.10/dist-packages (from openai) (4.12.2)\n",
            "Requirement already satisfied: idna>=2.8 in /usr/local/lib/python3.10/dist-packages (from anyio<5,>=3.5.0->openai) (3.7)\n",
            "Requirement already satisfied: exceptiongroup in /usr/local/lib/python3.10/dist-packages (from anyio<5,>=3.5.0->openai) (1.2.1)\n",
            "Requirement already satisfied: certifi in /usr/local/lib/python3.10/dist-packages (from httpx<1,>=0.23.0->openai) (2024.7.4)\n",
            "Collecting httpcore==1.* (from httpx<1,>=0.23.0->openai)\n",
            "  Downloading httpcore-1.0.5-py3-none-any.whl (77 kB)\n",
            "\u001b[2K     \u001b[90m━━━━━━━━━━━━━━━━━━━━━━━━━━━━━━━━━━━━━━━━\u001b[0m \u001b[32m77.9/77.9 kB\u001b[0m \u001b[31m4.1 MB/s\u001b[0m eta \u001b[36m0:00:00\u001b[0m\n",
            "\u001b[?25hCollecting h11<0.15,>=0.13 (from httpcore==1.*->httpx<1,>=0.23.0->openai)\n",
            "  Downloading h11-0.14.0-py3-none-any.whl (58 kB)\n",
            "\u001b[2K     \u001b[90m━━━━━━━━━━━━━━━━━━━━━━━━━━━━━━━━━━━━━━━━\u001b[0m \u001b[32m58.3/58.3 kB\u001b[0m \u001b[31m3.6 MB/s\u001b[0m eta \u001b[36m0:00:00\u001b[0m\n",
            "\u001b[?25hRequirement already satisfied: annotated-types>=0.4.0 in /usr/local/lib/python3.10/dist-packages (from pydantic<3,>=1.9.0->openai) (0.7.0)\n",
            "Requirement already satisfied: pydantic-core==2.20.1 in /usr/local/lib/python3.10/dist-packages (from pydantic<3,>=1.9.0->openai) (2.20.1)\n",
            "Installing collected packages: h11, httpcore, httpx, openai\n",
            "Successfully installed h11-0.14.0 httpcore-1.0.5 httpx-0.27.0 openai-1.35.13\n"
          ]
        }
      ],
      "source": [
        "pip install openai"
      ]
    },
    {
      "cell_type": "code",
      "source": [
        "from openai import OpenAI\n",
        "import os\n",
        "#from dotenv import load_dotenv\n",
        "import openai\n",
        "import requests\n",
        "import json\n",
        "\n",
        "import time\n",
        "import logging\n",
        "from datetime import datetime\n",
        "#import streamlit as st\n"
      ],
      "metadata": {
        "id": "oeBuqOXS7xlm"
      },
      "execution_count": null,
      "outputs": []
    },
    {
      "cell_type": "code",
      "source": [
        "\n",
        "\n",
        "#concise bot\n",
        "\n",
        "client = OpenAI(api_key=\"\")\n",
        "\n",
        "model = \"gpt-3.5-turbo\"\n",
        "\n",
        "assistant = client.beta.assistants.create(\n",
        "    name=\"trial\",\n",
        "    instructions=\"\"\"You are an IT ops self help instructor. you must only provide step by step instructions to solve the specified IT issue\"\"\",\n",
        "    model=model,\n",
        ")\n",
        "\n"
      ],
      "metadata": {
        "id": "-U2spiqc70X-"
      },
      "execution_count": null,
      "outputs": []
    },
    {
      "cell_type": "code",
      "source": [
        "\n",
        "assis_id = \"asst_NvNQiB5LDHM0IEaHAjRAJucn\"\n",
        "\n",
        "thread_id = \"thread_U2jF7mnzoGjVxnEgHztxUETC\"\n"
      ],
      "metadata": {
        "id": "K0H_8p7Z73GO"
      },
      "execution_count": null,
      "outputs": []
    },
    {
      "cell_type": "code",
      "source": [
        "message = \"I am trying to open Excel spreadsheet but the application is constantly crashing.\"  #Incident description as prompt\n",
        "message = client.beta.threads.messages.create(\n",
        "    thread_id=thread_id, role=\"user\", content=message\n",
        ")\n",
        "\n",
        "# == Run the Assistant  , 1 thread sufficient to ask further qs\n",
        "run = client.beta.threads.runs.create(\n",
        "    thread_id=thread_id,\n",
        "    assistant_id=assis_id,\n",
        "    instructions=\"Please address the user as employee\",\n",
        ")\n",
        "\n",
        "\n",
        "def wait_for_run_completion(client, thread_id, run_id, sleep_interval=5):\n",
        "    \"\"\"\n",
        "    Waits for a run to complete and prints the elapsed time.:param client: The OpenAI client object.\n",
        "    :param thread_id: The ID of the thread.\n",
        "    :param run_id: The ID of the run.\n",
        "    :param sleep_interval: Time in seconds to wait between checks.\n",
        "    \"\"\"\n",
        "    while True:\n",
        "        try:\n",
        "            run = client.beta.threads.runs.retrieve(thread_id=thread_id, run_id=run_id)\n",
        "            if run.completed_at:\n",
        "                elapsed_time = run.completed_at - run.created_at\n",
        "                formatted_elapsed_time = time.strftime(\n",
        "                    \"%H:%M:%S\", time.gmtime(elapsed_time)\n",
        "                )\n",
        "                print(f\"Run completed in {formatted_elapsed_time}\")\n",
        "                logging.info(f\"Run completed in {formatted_elapsed_time}\")\n",
        "                # Get messages here once Run is completed!\n",
        "                messages = client.beta.threads.messages.list(thread_id=thread_id)\n",
        "                last_message = messages.data[0]\n",
        "                response = last_message.content[0].text.value\n",
        "                print(f\"Assistant Response: {response}\")\n",
        "                break\n",
        "        except Exception as e:\n",
        "            logging.error(f\"An error occurred while retrieving the run: {e}\")\n",
        "            break\n",
        "        logging.info(\"Waiting for run to complete...\")\n",
        "        time.sleep(sleep_interval)\n",
        "\n",
        "\n",
        "wait_for_run_completion(client=client, thread_id=thread_id, run_id=run.id)"
      ],
      "metadata": {
        "id": "eQYgfLX974cN",
        "colab": {
          "base_uri": "https://localhost:8080/"
        },
        "outputId": "c5e1ceae-3b16-4439-d574-4733dc9a4f8f"
      },
      "execution_count": null,
      "outputs": [
        {
          "output_type": "stream",
          "name": "stdout",
          "text": [
            "Run completed in 00:00:37\n",
            "Assistant Response: I understand the frustration of dealing with Excel crashing when you're trying to open a spreadsheet. Let's work together to troubleshoot and resolve this issue.\n",
            "\n",
            "Here are a few steps you can take to address the problem:\n",
            "\n",
            "1. **Reboot Your Computer:** Sometimes, a simple restart can resolve temporary software glitches.\n",
            "\n",
            "2. **Update Excel:** Make sure that your Excel application is up-to-date. Check for any available updates and install them if needed. This can help fix bugs that may be causing the crashes.\n",
            "\n",
            "3. **Check for System Updates:** Ensure that your operating system is also updated to the latest version. An outdated OS can sometimes cause compatibility issues with applications like Excel.\n",
            "\n",
            "4. **Check for Corrupted File:** Try opening a different Excel spreadsheet to see if the issue is specific to one file. If other files open without crashing, the problem may be with that particular spreadsheet.\n",
            "\n",
            "5. **Run Excel in Safe Mode:** Try opening Excel in Safe Mode. This can help determine if the issue is related to add-ins or customizations. To do this, press and hold the Ctrl key while opening Excel, then follow the prompts.\n",
            "\n",
            "6. **Disable Add-Ins:** Sometimes, third-party add-ins can cause Excel to crash. Disable any add-ins and test if Excel opens without crashing.\n",
            "\n",
            "7. **Repair Microsoft Office:** You can try repairing your Microsoft Office installation. This can help fix any corrupted files that might be causing Excel to crash.\n",
            "\n",
            "If the issue persists after trying these steps, I recommend reaching out to your IT support team or Microsoft support for further assistance. They may be able to provide more specific guidance based on your system configuration. Let me know if you need further help or have any other questions.\n"
          ]
        }
      ]
    }
  ]
}